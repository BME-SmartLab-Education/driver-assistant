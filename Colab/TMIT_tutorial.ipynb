{
 "cells": [
  {
   "cell_type": "markdown",
   "metadata": {
    "colab_type": "text",
    "id": "owrNIeNT0DXn"
   },
   "source": [
    "# Goolge Colabotary Tutorial TMIT\n",
    "## Ebben a Jupyter Notebook-ban a Google áltlal nyújtott szolgáltatásokat lehet megismerni.\n",
    "\n",
    "#### Készítette:  Gróf Attila - grof.attila9@gmail.com\n",
    "\n",
    "### Ebben a fejezetben a GPU gyorsítás beállításáról lesz szó.\n",
    "\n"
   ]
  },
  {
   "cell_type": "markdown",
   "metadata": {
    "colab_type": "text",
    "id": "CBgk4u1-0gMM"
   },
   "source": [
    "ELőször is érdemes tudni, hogy alapértelmezetten a notebook CPU-n fut, viszont van rá lehetőség, hogy a Google által ingyenes nyújott *Tesla K80-as GPU* fusson a kódunk.\n",
    "Ezt a menüben a Runtime/Change Runtime type menüpont után a Hardware accelerator opciónál lehet a GPU opciót kiválasztani.\n",
    "\n",
    "A Runtime-ot ezután ajánlott újra indítani."
   ]
  },
  {
   "cell_type": "code",
   "execution_count": null,
   "metadata": {
    "colab": {
     "autoexec": {
      "startup": false,
      "wait_interval": 0
     },
     "base_uri": "https://localhost:8080/",
     "height": 255,
     "output_extras": [
      {},
      {}
     ]
    },
    "colab_type": "code",
    "executionInfo": {
     "elapsed": 8217,
     "status": "ok",
     "timestamp": 1520868736711,
     "user": {
      "displayName": "Attila Gróf",
      "photoUrl": "//lh6.googleusercontent.com/-ZGajZGgo-Y0/AAAAAAAAAAI/AAAAAAAAAJw/160SrHjwToE/s50-c-k-no/photo.jpg",
      "userId": "100946138970487349100"
     },
     "user_tz": -60
    },
    "id": "wBy9jIJrdlg1",
    "outputId": "832f61fc-474d-4688-c07d-9824a8d39038"
   },
   "outputs": [
    {
     "name": "stdout",
     "output_type": "stream",
     "text": [
      "Talált GPU: /device:GPU:0\n"
     ]
    },
    {
     "data": {
      "text/plain": [
       "[name: \"/device:CPU:0\"\n",
       " device_type: \"CPU\"\n",
       " memory_limit: 268435456\n",
       " locality {\n",
       " }\n",
       " incarnation: 4570406220125783909, name: \"/device:GPU:0\"\n",
       " device_type: \"GPU\"\n",
       " memory_limit: 356515840\n",
       " locality {\n",
       "   bus_id: 1\n",
       " }\n",
       " incarnation: 6867366700380362867\n",
       " physical_device_desc: \"device: 0, name: Tesla K80, pci bus id: 0000:00:04.0, compute capability: 3.7\"]"
      ]
     },
     "execution_count": 7,
     "metadata": {
      "tags": []
     },
     "output_type": "execute_result"
    }
   ],
   "source": [
    "# Amennyiben a beállítás sikeres volt, akkor \n",
    "# az alábbi blokk lefuttatása után már látni is fogjuk a GPU-t\n",
    "\n",
    "# Ehhez még szükségünk van a TensorFlow csomagra\n",
    "import tensorflow as tf\n",
    "\n",
    "device_name = tf.test.gpu_device_name()\n",
    "if device_name != '/device:GPU:0':\n",
    "  raise SystemError('GPU nem taláható')\n",
    "print('Talált GPU: {}'.format(device_name))\n",
    "from tensorflow.python.client import device_lib\n",
    "device_lib.list_local_devices()"
   ]
  },
  {
   "cell_type": "markdown",
   "metadata": {
    "colab_type": "text",
    "id": "-I8z-zXL2IcZ"
   },
   "source": [
    "### A követekző részben új csomagok telepítéséről és a meglévő csomagok manipulálására lesz néhány példa."
   ]
  },
  {
   "cell_type": "code",
   "execution_count": null,
   "metadata": {
    "colab": {
     "autoexec": {
      "startup": false,
      "wait_interval": 0
     },
     "base_uri": "https://localhost:8080/",
     "height": 170,
     "output_extras": [
      {}
     ]
    },
    "colab_type": "code",
    "executionInfo": {
     "elapsed": 2193,
     "status": "ok",
     "timestamp": 1520868960787,
     "user": {
      "displayName": "Attila Gróf",
      "photoUrl": "//lh6.googleusercontent.com/-ZGajZGgo-Y0/AAAAAAAAAAI/AAAAAAAAAJw/160SrHjwToE/s50-c-k-no/photo.jpg",
      "userId": "100946138970487349100"
     },
     "user_tz": -60
    },
    "id": "Zknvgs1idpw_",
    "outputId": "28551436-c5f2-448c-a3d3-19a813044ded"
   },
   "outputs": [
    {
     "name": "stdout",
     "output_type": "stream",
     "text": [
      "Name: tensorflow\n",
      "Version: 1.6.0rc1\n",
      "Summary: TensorFlow helps the tensors flow\n",
      "Home-page: https://www.tensorflow.org/\n",
      "Author: Google Inc.\n",
      "Author-email: opensource@google.com\n",
      "License: Apache 2.0\n",
      "Location: /usr/local/lib/python3.6/dist-packages\n",
      "Requires: numpy, protobuf, wheel, astor, absl-py, gast, tensorboard, grpcio, six, termcolor\n"
     ]
    }
   ],
   "source": [
    "# Már feltelepített csomag verziójának lekérdezése \n",
    "!pip show tensorflow"
   ]
  },
  {
   "cell_type": "code",
   "execution_count": null,
   "metadata": {
    "colab": {
     "autoexec": {
      "startup": false,
      "wait_interval": 0
     },
     "base_uri": "https://localhost:8080/",
     "height": 170,
     "output_extras": [
      {}
     ]
    },
    "colab_type": "code",
    "executionInfo": {
     "elapsed": 3244,
     "status": "ok",
     "timestamp": 1520869013809,
     "user": {
      "displayName": "Attila Gróf",
      "photoUrl": "//lh6.googleusercontent.com/-ZGajZGgo-Y0/AAAAAAAAAAI/AAAAAAAAAJw/160SrHjwToE/s50-c-k-no/photo.jpg",
      "userId": "100946138970487349100"
     },
     "user_tz": -60
    },
    "id": "ENWiiX8fdr-O",
    "outputId": "b2ff1396-b8ed-4433-8a17-70d7622d0e97"
   },
   "outputs": [
    {
     "name": "stdout",
     "output_type": "stream",
     "text": [
      "Collecting keras\n",
      "  Downloading Keras-2.1.5-py2.py3-none-any.whl (334kB)\n",
      "\u001b[K    100% |████████████████████████████████| 337kB 2.4MB/s \n",
      "\u001b[?25hRequirement already satisfied: numpy>=1.9.1 in /usr/local/lib/python3.6/dist-packages (from keras)\n",
      "Requirement already satisfied: pyyaml in /usr/local/lib/python3.6/dist-packages (from keras)\n",
      "Requirement already satisfied: scipy>=0.14 in /usr/local/lib/python3.6/dist-packages (from keras)\n",
      "Requirement already satisfied: six>=1.9.0 in /usr/local/lib/python3.6/dist-packages (from keras)\n",
      "Installing collected packages: keras\n",
      "Successfully installed keras-2.1.5\n"
     ]
    }
   ],
   "source": [
    "# Új python csomag feltelepítése\n",
    "!pip install keras"
   ]
  },
  {
   "cell_type": "code",
   "execution_count": null,
   "metadata": {
    "colab": {
     "autoexec": {
      "startup": false,
      "wait_interval": 0
     },
     "base_uri": "https://localhost:8080/",
     "height": 1819,
     "output_extras": [
      {},
      {}
     ]
    },
    "colab_type": "code",
    "executionInfo": {
     "elapsed": 5440,
     "status": "ok",
     "timestamp": 1520869281073,
     "user": {
      "displayName": "Attila Gróf",
      "photoUrl": "//lh6.googleusercontent.com/-ZGajZGgo-Y0/AAAAAAAAAAI/AAAAAAAAAJw/160SrHjwToE/s50-c-k-no/photo.jpg",
      "userId": "100946138970487349100"
     },
     "user_tz": -60
    },
    "id": "F2NKdi7QdtAm",
    "outputId": "198c4844-05fe-41d7-9c82-1e8a07c51091"
   },
   "outputs": [
    {
     "name": "stdout",
     "output_type": "stream",
     "text": [
      "Reading package lists... Done\n",
      "Building dependency tree       \n",
      "Reading state information... Done\n",
      "The following additional packages will be installed:\n",
      "  dbus libapparmor1 libasound2 libasound2-data libasyncns0 libdbus-1-3\n",
      "  libflac8 libjack-jackd2-0 libogg0 libpulse0 libsamplerate0 libsndfile1\n",
      "  libvorbis0a libvorbisenc2 libwrap0 tcpd\n",
      "Suggested packages:\n",
      "  default-dbus-session-bus | dbus-session-bus libasound2-plugins alsa-utils\n",
      "  jackd2 pulseaudio\n",
      "The following NEW packages will be installed:\n",
      "  dbus libapparmor1 libasound2 libasound2-data libasyncns0 libdbus-1-3\n",
      "  libflac8 libfluidsynth1 libjack-jackd2-0 libogg0 libpulse0 libsamplerate0\n",
      "  libsndfile1 libvorbis0a libvorbisenc2 libwrap0 tcpd\n",
      "0 upgraded, 17 newly installed, 0 to remove and 1 not upgraded.\n",
      "Need to get 2,960 kB of archives.\n",
      "After this operation, 9,425 kB of additional disk space will be used.\n",
      "Get:1 http://archive.ubuntu.com/ubuntu artful/main amd64 libogg0 amd64 1.3.2-1 [17.2 kB]\n",
      "Get:2 http://archive.ubuntu.com/ubuntu artful-updates/main amd64 libapparmor1 amd64 2.11.0-2ubuntu17.1 [28.9 kB]\n",
      "Get:3 http://archive.ubuntu.com/ubuntu artful/main amd64 libdbus-1-3 amd64 1.10.22-1ubuntu1 [165 kB]\n",
      "Get:4 http://archive.ubuntu.com/ubuntu artful/main amd64 dbus amd64 1.10.22-1ubuntu1 [144 kB]\n",
      "Get:5 http://archive.ubuntu.com/ubuntu artful/main amd64 libasound2-data all 1.1.3-5 [36.1 kB]\n",
      "Get:6 http://archive.ubuntu.com/ubuntu artful/main amd64 libasound2 amd64 1.1.3-5 [357 kB]\n",
      "Get:7 http://archive.ubuntu.com/ubuntu artful/main amd64 libasyncns0 amd64 0.8-6 [12.1 kB]\n",
      "Get:8 http://archive.ubuntu.com/ubuntu artful/main amd64 libflac8 amd64 1.3.2-1 [213 kB]\n",
      "Get:9 http://archive.ubuntu.com/ubuntu artful/main amd64 libsamplerate0 amd64 0.1.9-1 [938 kB]\n",
      "Get:10 http://archive.ubuntu.com/ubuntu artful/main amd64 libjack-jackd2-0 amd64 1.9.10+20150825git1ed50c92~dfsg-5ubuntu1 [256 kB]\n",
      "Get:11 http://archive.ubuntu.com/ubuntu artful/main amd64 libvorbis0a amd64 1.3.5-4 [85.0 kB]\n",
      "Get:12 http://archive.ubuntu.com/ubuntu artful/main amd64 libvorbisenc2 amd64 1.3.5-4 [70.8 kB]\n",
      "Get:13 http://archive.ubuntu.com/ubuntu artful/main amd64 libsndfile1 amd64 1.0.28-4 [169 kB]\n",
      "Get:14 http://archive.ubuntu.com/ubuntu artful/main amd64 libwrap0 amd64 7.6.q-26 [46.1 kB]\n",
      "Get:15 http://archive.ubuntu.com/ubuntu artful/main amd64 libpulse0 amd64 1:10.0-2ubuntu3 [265 kB]\n",
      "Get:16 http://archive.ubuntu.com/ubuntu artful/universe amd64 libfluidsynth1 amd64 1.1.6-4 [132 kB]\n",
      "Get:17 http://archive.ubuntu.com/ubuntu artful/main amd64 tcpd amd64 7.6.q-26 [23.5 kB]\n",
      "Fetched 2,960 kB in 0s (3,001 kB/s)\n",
      "Selecting previously unselected package libogg0:amd64.\n",
      "(Reading database ... 16669 files and directories currently installed.)\n",
      "Preparing to unpack .../00-libogg0_1.3.2-1_amd64.deb ...\n",
      "Unpacking libogg0:amd64 (1.3.2-1) ...\n",
      "Selecting previously unselected package libapparmor1:amd64.\n",
      "Preparing to unpack .../01-libapparmor1_2.11.0-2ubuntu17.1_amd64.deb ...\n",
      "Unpacking libapparmor1:amd64 (2.11.0-2ubuntu17.1) ...\n",
      "Selecting previously unselected package libdbus-1-3:amd64.\n",
      "Preparing to unpack .../02-libdbus-1-3_1.10.22-1ubuntu1_amd64.deb ...\n",
      "Unpacking libdbus-1-3:amd64 (1.10.22-1ubuntu1) ...\n",
      "Selecting previously unselected package dbus.\n",
      "Preparing to unpack .../03-dbus_1.10.22-1ubuntu1_amd64.deb ...\n",
      "Unpacking dbus (1.10.22-1ubuntu1) ...\n",
      "Selecting previously unselected package libasound2-data.\n",
      "Preparing to unpack .../04-libasound2-data_1.1.3-5_all.deb ...\n",
      "Unpacking libasound2-data (1.1.3-5) ...\n",
      "Selecting previously unselected package libasound2:amd64.\n",
      "Preparing to unpack .../05-libasound2_1.1.3-5_amd64.deb ...\n",
      "Unpacking libasound2:amd64 (1.1.3-5) ...\n",
      "Selecting previously unselected package libasyncns0:amd64.\n",
      "Preparing to unpack .../06-libasyncns0_0.8-6_amd64.deb ...\n",
      "Unpacking libasyncns0:amd64 (0.8-6) ...\n",
      "Selecting previously unselected package libflac8:amd64.\n",
      "Preparing to unpack .../07-libflac8_1.3.2-1_amd64.deb ...\n",
      "Unpacking libflac8:amd64 (1.3.2-1) ...\n",
      "Selecting previously unselected package libsamplerate0:amd64.\n",
      "Preparing to unpack .../08-libsamplerate0_0.1.9-1_amd64.deb ...\n",
      "Unpacking libsamplerate0:amd64 (0.1.9-1) ...\n",
      "Selecting previously unselected package libjack-jackd2-0:amd64.\n",
      "Preparing to unpack .../09-libjack-jackd2-0_1.9.10+20150825git1ed50c92~dfsg-5ubuntu1_amd64.deb ...\n",
      "Unpacking libjack-jackd2-0:amd64 (1.9.10+20150825git1ed50c92~dfsg-5ubuntu1) ...\n",
      "Selecting previously unselected package libvorbis0a:amd64.\n",
      "Preparing to unpack .../10-libvorbis0a_1.3.5-4_amd64.deb ...\n",
      "Unpacking libvorbis0a:amd64 (1.3.5-4) ...\n",
      "Selecting previously unselected package libvorbisenc2:amd64.\n",
      "Preparing to unpack .../11-libvorbisenc2_1.3.5-4_amd64.deb ...\n",
      "Unpacking libvorbisenc2:amd64 (1.3.5-4) ...\n",
      "Selecting previously unselected package libsndfile1:amd64.\n",
      "Preparing to unpack .../12-libsndfile1_1.0.28-4_amd64.deb ...\n",
      "Unpacking libsndfile1:amd64 (1.0.28-4) ...\n",
      "Selecting previously unselected package libwrap0:amd64.\n",
      "Preparing to unpack .../13-libwrap0_7.6.q-26_amd64.deb ...\n",
      "Unpacking libwrap0:amd64 (7.6.q-26) ...\n",
      "Selecting previously unselected package libpulse0:amd64.\n",
      "Preparing to unpack .../14-libpulse0_1%3a10.0-2ubuntu3_amd64.deb ...\n",
      "Unpacking libpulse0:amd64 (1:10.0-2ubuntu3) ...\n",
      "Selecting previously unselected package libfluidsynth1:amd64.\n",
      "Preparing to unpack .../15-libfluidsynth1_1.1.6-4_amd64.deb ...\n",
      "Unpacking libfluidsynth1:amd64 (1.1.6-4) ...\n",
      "Selecting previously unselected package tcpd.\n",
      "Preparing to unpack .../16-tcpd_7.6.q-26_amd64.deb ...\n",
      "Unpacking tcpd (7.6.q-26) ...\n",
      "Setting up libasyncns0:amd64 (0.8-6) ...\n",
      "Setting up libasound2-data (1.1.3-5) ...\n",
      "Setting up libasound2:amd64 (1.1.3-5) ...\n",
      "Setting up libogg0:amd64 (1.3.2-1) ...\n",
      "Processing triggers for libc-bin (2.26-0ubuntu2.1) ...\n",
      "Setting up libapparmor1:amd64 (2.11.0-2ubuntu17.1) ...\n",
      "Setting up libsamplerate0:amd64 (0.1.9-1) ...\n",
      "Setting up libvorbis0a:amd64 (1.3.5-4) ...\n",
      "Setting up libdbus-1-3:amd64 (1.10.22-1ubuntu1) ...\n",
      "Setting up libwrap0:amd64 (7.6.q-26) ...\n",
      "Setting up libflac8:amd64 (1.3.2-1) ...\n",
      "Setting up tcpd (7.6.q-26) ...\n",
      "Setting up libjack-jackd2-0:amd64 (1.9.10+20150825git1ed50c92~dfsg-5ubuntu1) ...\n",
      "Setting up dbus (1.10.22-1ubuntu1) ...\n",
      "Setting up libvorbisenc2:amd64 (1.3.5-4) ...\n",
      "Setting up libsndfile1:amd64 (1.0.28-4) ...\n",
      "Setting up libpulse0:amd64 (1:10.0-2ubuntu3) ...\n",
      "Setting up libfluidsynth1:amd64 (1.1.6-4) ...\n",
      "Processing triggers for libc-bin (2.26-0ubuntu2.1) ...\n"
     ]
    }
   ],
   "source": [
    "# Ha a csoamg nem elérhető a Colaboratory-n keresztül, akkor\n",
    "# az apt-get utasítás is használható\n",
    "!apt-get install libfluidsynth1 -y"
   ]
  },
  {
   "cell_type": "markdown",
   "metadata": {
    "colab_type": "text",
    "id": "RgOKPJLD4InT"
   },
   "source": [
    "### Ebben a fejezetben néhány példa fog szerepelni."
   ]
  },
  {
   "cell_type": "code",
   "execution_count": null,
   "metadata": {
    "colab": {
     "autoexec": {
      "startup": false,
      "wait_interval": 0
     },
     "base_uri": "https://localhost:8080/",
     "height": 340,
     "output_extras": [
      {}
     ]
    },
    "colab_type": "code",
    "executionInfo": {
     "elapsed": 805,
     "status": "ok",
     "timestamp": 1520869462528,
     "user": {
      "displayName": "Attila Gróf",
      "photoUrl": "//lh6.googleusercontent.com/-ZGajZGgo-Y0/AAAAAAAAAAI/AAAAAAAAAJw/160SrHjwToE/s50-c-k-no/photo.jpg",
      "userId": "100946138970487349100"
     },
     "user_tz": -60
    },
    "id": "mBx-HBerdxJy",
    "outputId": "5132dc44-a737-4126-bf2d-641d44ab8a9c"
   },
   "outputs": [
    {
     "name": "stdout",
     "output_type": "stream",
     "text": [
      "Hello from Python 3.6 -  1\n",
      "Hello from Python 3.6 -  2\n",
      "Hello from Python 3.6 -  3\n",
      "Hello from Python 3.6 -  4\n",
      "Hello from Python 3.6 -  5\n",
      "Hello from Python 3.6 -  6\n",
      "Hello from Python 3.6 -  7\n",
      "Hello from Python 3.6 -  8\n",
      "Hello from Python 3.6 -  9\n",
      "Hello from Python 3.6 -  10\n",
      "Hello from Python 3.6 -  11\n",
      "Hello from Python 3.6 -  12\n",
      "Hello from Python 3.6 -  13\n",
      "Hello from Python 3.6 -  14\n",
      "Hello from Python 3.6 -  15\n",
      "Hello from Python 3.6 -  16\n",
      "Hello from Python 3.6 -  17\n",
      "Hello from Python 3.6 -  18\n",
      "Hello from Python 3.6 -  19\n"
     ]
    }
   ],
   "source": [
    "for i in range(1,20):\n",
    "  print(\"Hello from Python 3.6 - \" , i)"
   ]
  },
  {
   "cell_type": "markdown",
   "metadata": {
    "colab_type": "text",
    "id": "EJqIzn4knWk7"
   },
   "source": [
    "### Google drive mappáit el lehet érni a kódból az alábbi sorok futtatásával."
   ]
  },
  {
   "cell_type": "code",
   "execution_count": 1,
   "metadata": {
    "colab": {
     "autoexec": {
      "startup": false,
      "wait_interval": 0
     },
     "base_uri": "https://localhost:8080/",
     "height": 105,
     "output_extras": [
      {
       "item_id": 4
      }
     ]
    },
    "colab_type": "code",
    "executionInfo": {
     "elapsed": 18163,
     "status": "ok",
     "timestamp": 1521401699609,
     "user": {
      "displayName": "Attila Gróf",
      "photoUrl": "//lh6.googleusercontent.com/-ZGajZGgo-Y0/AAAAAAAAAAI/AAAAAAAAAJw/160SrHjwToE/s50-c-k-no/photo.jpg",
      "userId": "100946138970487349100"
     },
     "user_tz": -60
    },
    "id": "sDRVp33Kd0fj",
    "outputId": "05d8bdee-f44e-4695-f1ea-5b3fc15859da"
   },
   "outputs": [
    {
     "name": "stdout",
     "output_type": "stream",
     "text": [
      "Please, open the following URL in a web browser: https://accounts.google.com/o/oauth2/auth?client_id=32555940559.apps.googleusercontent.com&redirect_uri=urn%3Aietf%3Awg%3Aoauth%3A2.0%3Aoob&scope=https%3A%2F%2Fwww.googleapis.com%2Fauth%2Fdrive&response_type=code&access_type=offline&approval_prompt=force\n",
      "··········\n",
      "Please, open the following URL in a web browser: https://accounts.google.com/o/oauth2/auth?client_id=32555940559.apps.googleusercontent.com&redirect_uri=urn%3Aietf%3Awg%3Aoauth%3A2.0%3Aoob&scope=https%3A%2F%2Fwww.googleapis.com%2Fauth%2Fdrive&response_type=code&access_type=offline&approval_prompt=force\n",
      "Please enter the verification code: Access token retrieved correctly.\n"
     ]
    }
   ],
   "source": [
    "!apt-get install -y -qq software-properties-common python-software-properties module-init-tools\n",
    "!add-apt-repository -y ppa:alessandro-strada/ppa 2>&1 > /dev/null\n",
    "!apt-get update -qq 2>&1 > /dev/null\n",
    "!apt-get -y install -qq google-drive-ocamlfuse fuse\n",
    "from google.colab import auth\n",
    "auth.authenticate_user()\n",
    "from oauth2client.client import GoogleCredentials\n",
    "creds = GoogleCredentials.get_application_default()\n",
    "import getpass\n",
    "!google-drive-ocamlfuse -headless -id={creds.client_id} -secret={creds.client_secret} < /dev/null 2>&1 | grep URL\n",
    "vcode = getpass.getpass()\n",
    "!echo {vcode} | google-drive-ocamlfuse -headless -id={creds.client_id} -secret={creds.client_secret}"
   ]
  },
  {
   "cell_type": "code",
   "execution_count": null,
   "metadata": {
    "colab": {
     "autoexec": {
      "startup": false,
      "wait_interval": 0
     }
    },
    "colab_type": "code",
    "id": "ZM5zvX3hd2Ml"
   },
   "outputs": [],
   "source": [
    "!mkdir -p drive\n",
    "!google-drive-ocamlfuse drive"
   ]
  },
  {
   "cell_type": "code",
   "execution_count": 3,
   "metadata": {
    "colab": {
     "autoexec": {
      "startup": false,
      "wait_interval": 0
     },
     "base_uri": "https://localhost:8080/",
     "height": 68,
     "output_extras": [
      {
       "item_id": 1
      }
     ]
    },
    "colab_type": "code",
    "executionInfo": {
     "elapsed": 1273,
     "status": "ok",
     "timestamp": 1521401739859,
     "user": {
      "displayName": "Attila Gróf",
      "photoUrl": "//lh6.googleusercontent.com/-ZGajZGgo-Y0/AAAAAAAAAAI/AAAAAAAAAJw/160SrHjwToE/s50-c-k-no/photo.jpg",
      "userId": "100946138970487349100"
     },
     "user_tz": -60
    },
    "id": "68ujUzERnAO_",
    "outputId": "d81978f4-023d-40fb-f1ff-f95fc39bb6c7"
   },
   "outputs": [
    {
     "name": "stdout",
     "output_type": "stream",
     "text": [
      "total 8\n",
      "drwxr-xr-x 1 root root 4096 Mar 18 20:34 datalab\n",
      "drwxr-xr-x 2 root root 4096 Mar 18 20:35 drive\n"
     ]
    }
   ],
   "source": [
    "!ls -l"
   ]
  },
  {
   "cell_type": "code",
   "execution_count": 12,
   "metadata": {
    "colab": {
     "autoexec": {
      "startup": false,
      "wait_interval": 0
     },
     "base_uri": "https://localhost:8080/",
     "height": 34,
     "output_extras": [
      {
       "item_id": 1
      }
     ]
    },
    "colab_type": "code",
    "executionInfo": {
     "elapsed": 1294,
     "status": "ok",
     "timestamp": 1521401994503,
     "user": {
      "displayName": "Attila Gróf",
      "photoUrl": "//lh6.googleusercontent.com/-ZGajZGgo-Y0/AAAAAAAAAAI/AAAAAAAAAJw/160SrHjwToE/s50-c-k-no/photo.jpg",
      "userId": "100946138970487349100"
     },
     "user_tz": -60
    },
    "id": "VqXa02s4nGEf",
    "outputId": "24264f0b-1280-4320-c3fb-4d56a19c3e0d"
   },
   "outputs": [
    {
     "name": "stdout",
     "output_type": "stream",
     "text": [
      "/content/drive/Colab Notebooks\n"
     ]
    }
   ],
   "source": [
    "cd drive/Colab Notebooks"
   ]
  },
  {
   "cell_type": "code",
   "execution_count": 13,
   "metadata": {
    "colab": {
     "autoexec": {
      "startup": false,
      "wait_interval": 0
     },
     "base_uri": "https://localhost:8080/",
     "height": 51,
     "output_extras": [
      {
       "item_id": 1
      }
     ]
    },
    "colab_type": "code",
    "executionInfo": {
     "elapsed": 996,
     "status": "ok",
     "timestamp": 1521401997641,
     "user": {
      "displayName": "Attila Gróf",
      "photoUrl": "//lh6.googleusercontent.com/-ZGajZGgo-Y0/AAAAAAAAAAI/AAAAAAAAAJw/160SrHjwToE/s50-c-k-no/photo.jpg",
      "userId": "100946138970487349100"
     },
     "user_tz": -60
    },
    "id": "BEKHuk3gnvHW",
    "outputId": "d48e24db-1369-496e-b37d-f6ddbc84a225"
   },
   "outputs": [
    {
     "name": "stdout",
     "output_type": "stream",
     "text": [
      "Car_Detection.ipynb  \u001b[0m\u001b[01;34mDatabase\u001b[0m/        MNIST_GPU.ipynb\n",
      "CarDetector.ipynb    MNIST_CPU.ipynb  TMIT_tutorial.ipynb\n"
     ]
    }
   ],
   "source": [
    "ls "
   ]
  },
  {
   "cell_type": "code",
   "execution_count": null,
   "metadata": {
    "colab": {
     "autoexec": {
      "startup": false,
      "wait_interval": 0
     }
    },
    "colab_type": "code",
    "id": "G9nlwJyEnwIe"
   },
   "outputs": [],
   "source": []
  }
 ],
 "metadata": {
  "accelerator": "GPU",
  "colab": {
   "collapsed_sections": [],
   "default_view": {},
   "name": "TMIT_tutorial.ipynb",
   "provenance": [],
   "version": "0.3.2",
   "views": {}
  },
  "kernelspec": {
   "display_name": "Python 3",
   "language": "python",
   "name": "python3"
  },
  "language_info": {
   "codemirror_mode": {
    "name": "ipython",
    "version": 3
   },
   "file_extension": ".py",
   "mimetype": "text/x-python",
   "name": "python",
   "nbconvert_exporter": "python",
   "pygments_lexer": "ipython3",
   "version": "3.6.4"
  }
 },
 "nbformat": 4,
 "nbformat_minor": 2
}
